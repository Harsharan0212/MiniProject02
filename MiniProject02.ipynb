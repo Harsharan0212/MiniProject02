{
  "nbformat": 4,
  "nbformat_minor": 0,
  "metadata": {
    "colab": {
      "provenance": [],
      "authorship_tag": "ABX9TyNE+FS9gaQ5qk/Q5oqNrhZz",
      "include_colab_link": true
    },
    "kernelspec": {
      "name": "python3",
      "display_name": "Python 3"
    },
    "language_info": {
      "name": "python"
    }
  },
  "cells": [
    {
      "cell_type": "markdown",
      "metadata": {
        "id": "view-in-github",
        "colab_type": "text"
      },
      "source": [
        "<a href=\"https://colab.research.google.com/github/Harsharan0212/MiniProject02/blob/main/MiniProject02.ipynb\" target=\"_parent\"><img src=\"https://colab.research.google.com/assets/colab-badge.svg\" alt=\"Open In Colab\"/></a>"
      ]
    },
    {
      "cell_type": "markdown",
      "source": [
        "# ***ComboFinder***"
      ],
      "metadata": {
        "id": "bzrK8O_5MdCH"
      }
    },
    {
      "cell_type": "code",
      "execution_count": 5,
      "metadata": {
        "colab": {
          "base_uri": "https://localhost:8080/"
        },
        "id": "ZRei24qwAcq_",
        "outputId": "c8542b90-803d-4ca1-ecb8-fa665de343fd"
      },
      "outputs": [
        {
          "output_type": "stream",
          "name": "stdout",
          "text": [
            "('p1', 'p11', 'p14', 'p2', 'p3', 'p4', 'p5', 'p7', 'p8')\n",
            "('p1', 'p10', 'p11', 'p14', 'p2', 'p3', 'p6', 'p7')\n",
            "('p11', 'p12', 'p13', 'p14', 'p2', 'p4')\n",
            "('p1', 'p10', 'p2', 'p3', 'p4', 'p5', 'p7', 'p8', 'p9')\n",
            "('p11', 'p14', 'p3', 'p6', 'p7', 'p8', 'p9')\n",
            "('p12', 'p2', 'p4', 'p5', 'p7', 'p8', 'p9')\n",
            "('p11', 'p14', 'p6', 'p7', 'p8', 'p9')\n",
            "('p1', 'p10', 'p11', 'p12', 'p14', 'p7')\n",
            "('p10', 'p12', 'p13', 'p7', 'p9')\n",
            "('p1', 'p10', 'p12', 'p14', 'p3', 'p5', 'p7')\n",
            "('p1', 'p11', 'p3', 'p5', 'p6', 'p7', 'p8', 'p9')\n",
            "('p11', 'p12', 'p14', 'p2', 'p7', 'p8')\n",
            "('p10', 'p11', 'p12', 'p3', 'p4', 'p7')\n",
            "('p1', 'p11', 'p2', 'p3', 'p4', 'p5', 'p6', 'p7', 'p8')\n",
            "('p10', 'p12', 'p2', 'p4', 'p5', 'p7', 'p8')\n",
            "('p12', 'p13', 'p14', 'p2', 'p3', 'p5', 'p9')\n",
            "('p1', 'p13', 'p3', 'p4', 'p5', 'p7', 'p8', 'p9')\n",
            "('p10', 'p11', 'p13', 'p3', 'p6', 'p7')\n",
            "('p10', 'p11', 'p14', 'p3', 'p4', 'p6', 'p9')\n",
            "('p1', 'p12', 'p13', 'p14', 'p2', 'p8', 'p9')\n",
            "('p10', 'p12', 'p13', 'p14', 'p2', 'p3', 'p4')\n",
            "('p1', 'p11', 'p3', 'p4', 'p6', 'p7', 'p8', 'p9')\n",
            "('p1', 'p10', 'p2', 'p3', 'p4', 'p5', 'p6', 'p7', 'p9')\n",
            "('p12', 'p13', 'p3', 'p4', 'p5', 'p7', 'p8')\n",
            "('p11', 'p13', 'p14', 'p2', 'p7', 'p9')\n",
            "('p1', 'p10', 'p11', 'p14', 'p4', 'p5', 'p9')\n",
            "('p1', 'p11', 'p12', 'p2', 'p3', 'p5', 'p6', 'p8')\n",
            "('p1', 'p10', 'p14', 'p2', 'p6', 'p7', 'p8', 'p9')\n",
            "('p1', 'p10', 'p11', 'p12', 'p3', 'p5', 'p6')\n",
            "('p11', 'p13', 'p14', 'p2', 'p3', 'p5', 'p9')\n",
            "('p1', 'p10', 'p13', 'p14', 'p4', 'p5', 'p9')\n",
            "('p10', 'p11', 'p6', 'p7', 'p8', 'p9')\n",
            "('p1', 'p10', 'p11', 'p12', 'p5', 'p9')\n",
            "('p1', 'p11', 'p12', 'p13', 'p3', 'p5', 'p6')\n",
            "('p1', 'p12', 'p13', 'p2', 'p4', 'p8', 'p9')\n",
            "('p10', 'p11', 'p14', 'p4', 'p7', 'p9')\n",
            "('p1', 'p12', 'p13', 'p14', 'p7', 'p9')\n",
            "('p11', 'p14', 'p4', 'p5', 'p7', 'p8', 'p9')\n",
            "('p10', 'p11', 'p13', 'p5', 'p6', 'p7')\n",
            "('p11', 'p12', 'p13', 'p4', 'p6', 'p8')\n",
            "('p1', 'p13', 'p2', 'p4', 'p5', 'p6', 'p7', 'p9')\n",
            "('p10', 'p11', 'p14', 'p2', 'p5', 'p6', 'p8')\n",
            "('p1', 'p11', 'p12', 'p3', 'p4', 'p8', 'p9')\n",
            "('p10', 'p14', 'p3', 'p4', 'p6', 'p7', 'p9')\n",
            "('p11', 'p12', 'p4', 'p5', 'p8', 'p9')\n",
            "('p10', 'p12', 'p14', 'p2', 'p3', 'p4', 'p5', 'p8')\n",
            "('p1', 'p11', 'p12', 'p13', 'p2', 'p4', 'p8')\n",
            "Total number of sets are:  47\n"
          ]
        }
      ],
      "source": [
        "import random as r\n",
        "ProductList={'p1':10, 'p2':15, 'p3':20, 'p4':25, 'p5':30, 'p6':35, 'p7':50, 'p8':40, 'p9':55, 'p10':60, 'p11':65, 'p12':75, 'p13':70, 'p14':45}\n",
        "LB=290\n",
        "UB=310\n",
        "ResultList=set()\n",
        "Iterations=1000\n",
        "\n",
        "for i in range(Iterations):\n",
        "  SetSize=r.randint(2,len(ProductList)-1)\n",
        "  ComboList=r.sample(list(ProductList.keys()),SetSize)\n",
        "  ComboList.sort()\n",
        "  ComboSum=sum(ProductList[i] for i in ComboList)\n",
        "  \n",
        "  if ComboSum>=LB and ComboSum<=UB:\n",
        "    ResultList.add(tuple(ComboList))\n",
        "\n",
        "for r in ResultList:\n",
        "  print(r)\n",
        "\n",
        "print(\"Total number of sets are: \",len(ResultList))"
      ]
    }
  ]
}